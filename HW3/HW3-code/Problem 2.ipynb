{
 "cells": [
  {
   "cell_type": "code",
   "execution_count": 7,
   "metadata": {},
   "outputs": [],
   "source": [
    "import pandas as pd\n",
    "import matplotlib.pyplot as plt \n",
    "import numpy as np\n",
    "\n",
    "#reading from Database uding pandas    \n",
    "df_train = pd.read_csv ('data_train.csv')\n",
    "df_test = pd.read_csv ('data_test.csv')\n",
    "\n",
    "train = df_train.values\n",
    "X_train = train[:,0:16]\n",
    "y_train = train[:,16:17]\n",
    "\n",
    "test = df_test.values\n",
    "X_test = test[:,0:16]\n",
    "y_test = test[:,16:17]\n",
    "\n"
   ]
  },
  {
   "cell_type": "markdown",
   "metadata": {},
   "source": [
    "# Part A\n",
    "## random forest implementation without prepared library "
   ]
  },
  {
   "cell_type": "code",
   "execution_count": 10,
   "metadata": {},
   "outputs": [
    {
     "name": "stdout",
     "output_type": "stream",
     "text": [
      "Accuracy of decision trees built:\n",
      "\n",
      "0.5393194166428367\n",
      "0.5161567057477838\n",
      "0.5095796396911638\n",
      "0.540177294824135\n",
      "0.5376036602802402\n",
      "0.5541893051186731\n",
      "0.5121532742350586\n",
      "0.5072919645410352\n",
      "0.5476122390620531\n",
      "0.5616242493565914\n",
      "0.5124392336288247\n",
      "0.5341721475550472\n",
      "0.5218758936231055\n",
      "0.5155847869602517\n",
      "0.523305690591936\n"
     ]
    }
   ],
   "source": [
    "from sklearn.tree import DecisionTreeClassifier \n",
    "from sklearn.metrics import confusion_matrix\n",
    "import random \n",
    "\n",
    "dtree = DecisionTreeClassifier(max_depth=3)\n",
    "choices = list(range(16)) \n",
    "k=0\n",
    "models = []\n",
    "outcomes = []\n",
    "print('Accuracy of decision trees built:\\n')\n",
    "\n",
    "while k<15:\n",
    "    \n",
    "    '''Bootstrap sampling'''\n",
    "    X_train_sample=[]\n",
    "    y_train_sample=[]\n",
    "    for i in range(len(y_train)):\n",
    "        n=random.randrange(len(y_train))\n",
    "        X_train_sample.append(X_train[n])\n",
    "        y_train_sample.append(y_train[n])\n",
    "    \n",
    "    X_train_sample = np.array(X_train_sample)\n",
    "    y_train_sample = np.array(y_train_sample)\n",
    "    \n",
    "    '''random feature selection'''\n",
    "    random.shuffle(choices)\n",
    "    X_train_random_feature = np.array([X_train_sample[:,choices[0]] , X_train_sample[:,choices[1]] , X_train_sample[:,choices[2]] ]).T\n",
    "    X_test_random_feature = np.array([X_test[:,choices[0]] , X_test[:,choices[1]] , X_test[:,choices[2]]  ]).T\n",
    "    \n",
    "    model = dtree.fit(X_train_random_feature,y_train_sample)\n",
    "    models.append(model)\n",
    "    predicted = model.predict(X_test_random_feature)\n",
    "    \n",
    "    \n",
    "    if (dtree.score(X_test_random_feature , y_test)) > .5:\n",
    "        k=k+1\n",
    "        print(dtree.score(X_test_random_feature , y_test))\n",
    "        outcomes.append(predicted)\n",
    "    \n",
    "cmdtree = confusion_matrix(y_test,predicted) \n",
    "#print(cmdtree)\n",
    "#print(dtree.score(X_test , y_test))\n"
   ]
  },
  {
   "cell_type": "code",
   "execution_count": 8,
   "metadata": {},
   "outputs": [
    {
     "name": "stdout",
     "output_type": "stream",
     "text": [
      "Random Forest Accuracy: 0.6954532456391193\n",
      "\n",
      "Confusion Matrix:\n",
      "\n",
      "[[338   0   0   0   0   0   6   1  70   0]\n",
      " [  1 106   0   1   0   0   0  13   0   6]\n",
      " [  5 215 355   0   2   0  14  11   0   0]\n",
      " [  1  42   6 335  11 166   7  44   0 316]\n",
      " [  0   1   0   0 351   0   2   2   0  13]\n",
      " [  0   0   0   0   0 160   0   0  34   0]\n",
      " [  2   0   0   0   0   1 294   1   3   0]\n",
      " [  3   0   3   0   0   0  13 283  18   0]\n",
      " [ 13   0   0   0   0   8   0   9 210   1]\n",
      " [  0   0   0   0   0   0   0   0   0   0]]\n"
     ]
    }
   ],
   "source": [
    "import scipy\n",
    "from sklearn.metrics import accuracy_score\n",
    "results = []\n",
    "for i in range(len(outcomes[0])):\n",
    "    expr = []\n",
    "    for n in range(15):\n",
    "        expr.append(outcomes[n][i])\n",
    "    results.append(scipy.stats.mode(expr)[0])\n",
    "    \n",
    "print('Random Forest Accuracy: ' +  str(accuracy_score(results,y_test)) +'\\n'   )\n",
    "print('Confusion Matrix:\\n\\n'+ str(confusion_matrix(results,y_test) ))"
   ]
  },
  {
   "cell_type": "markdown",
   "metadata": {},
   "source": [
    "# Part A\n",
    "## random forest implementation with prepared library "
   ]
  },
  {
   "cell_type": "code",
   "execution_count": 26,
   "metadata": {},
   "outputs": [
    {
     "name": "stdout",
     "output_type": "stream",
     "text": [
      "Random Forest Accuracy(prepared library): 0.79182156133829\n",
      "\n",
      "Confusion Matrix(prepared library):\n",
      "\n",
      "[[311   0   0   0   0   0   4   0  15   0]\n",
      " [  0 199   5   2   1   0   1  30   0  36]\n",
      " [  0 161 353   0   0   0   3  15   0   0]\n",
      " [  0   3   0 325   5 119   5   1   0  29]\n",
      " [  1   1   0   2 354  25   2   0   0  27]\n",
      " [  0   0   0   0   0 166   0   4  16   0]\n",
      " [  2   0   0   0   0   0 292   7   7   0]\n",
      " [ 19   0   6   7   0   1  27 285  54   2]\n",
      " [ 30   0   0   0   0   2   2   3 243   1]\n",
      " [  0   0   0   0   4  22   0  19   0 241]]\n"
     ]
    }
   ],
   "source": [
    "'''Solve using prepared library'''\n",
    "from sklearn.ensemble import RandomForestClassifier\n",
    "from sklearn.metrics import classification_report, confusion_matrix, accuracy_score\n",
    "\n",
    "clf = RandomForestClassifier(max_depth=3, random_state=1,n_estimators=15)\n",
    "clf.fit(X_train, y_train.ravel())\n",
    "y_pred = clf.predict(X_test)\n",
    "accuracy = accuracy_score(y_test, y_pred)\n",
    "\n",
    "print('Random Forest Accuracy(prepared library): ' +  str(accuracy) +'\\n'   )\n",
    "print('Confusion Matrix(prepared library):\\n\\n'+ str(confusion_matrix(y_pred,y_test) ))\n",
    "\n"
   ]
  },
  {
   "cell_type": "markdown",
   "metadata": {},
   "source": [
    "# Part B "
   ]
  },
  {
   "cell_type": "code",
   "execution_count": 29,
   "metadata": {},
   "outputs": [
    {
     "name": "stdout",
     "output_type": "stream",
     "text": [
      "AdaBoost Accuracy(n_estimators=10): 0.5487560766371176\n",
      "\n"
     ]
    }
   ],
   "source": [
    "from sklearn.ensemble import AdaBoostClassifier\n",
    "from sklearn.ensemble import AdaBoostClassifier\n",
    "import matplotlib.pyplot as plt\n",
    "\n",
    "clf = AdaBoostClassifier(n_estimators=10)\n",
    "clf.fit(X_train, y_train.ravel())\n",
    "y_pred = clf.predict(X_test)\n",
    "accuracy = accuracy_score(y_test, y_pred)\n",
    "\n",
    "print('AdaBoost Accuracy(n_estimators=10): ' +  str(accuracy) +'\\n'   )\n"
   ]
  },
  {
   "cell_type": "markdown",
   "metadata": {},
   "source": [
    "# Part C"
   ]
  },
  {
   "cell_type": "code",
   "execution_count": 30,
   "metadata": {},
   "outputs": [
    {
     "name": "stdout",
     "output_type": "stream",
     "text": [
      "AdaBoost Accuracy(n_estimators=5): 0.523305690591936\n",
      "AdaBoost Accuracy(n_estimators=10): 0.5487560766371176\n",
      "AdaBoost Accuracy(n_estimators=20): 0.6371175293108379\n",
      "AdaBoost Accuracy(n_estimators=50): 0.610523305690592\n"
     ]
    },
    {
     "data": {
      "image/png": "[encoded data removed]",
      "text/plain": [
       "<Figure size 432x288 with 1 Axes>"
      ]
     },
     "metadata": {
      "needs_background": "light"
     },
     "output_type": "display_data"
    }
   ],
   "source": [
    "from sklearn.ensemble import AdaBoostClassifier\n",
    "import matplotlib.pyplot as plt\n",
    "n_estimators = [5 ,10,20,50]\n",
    "accuracy_result=[]\n",
    "for n in n_estimators:\n",
    "    clf = AdaBoostClassifier(n_estimators=n)\n",
    "    clf.fit(X_train, y_train.ravel())\n",
    "    y_pred = clf.predict(X_test)\n",
    "    accuracy = accuracy_score(y_test, y_pred)\n",
    "\n",
    "    print('AdaBoost Accuracy(n_estimators={}): '.format(n) +  str(accuracy)    )\n",
    "    accuracy_result.append(accuracy)\n",
    "plt.stem(n_estimators,accuracy_result)\n",
    "plt.show()\n"
   ]
  },
  {
   "cell_type": "markdown",
   "metadata": {},
   "source": [
    "# Part D"
   ]
  },
  {
   "cell_type": "code",
   "execution_count": 68,
   "metadata": {},
   "outputs": [
    {
     "name": "stdout",
     "output_type": "stream",
     "text": [
      "Accuracy of Gradient Boosting(XGBoost): 0.9373748927652273\n",
      "\n"
     ]
    }
   ],
   "source": [
    "from xgboost import XGBClassifier\n",
    "from sklearn.model_selection import cross_val_score\n",
    "from sklearn.model_selection import RepeatedStratifiedKFold\n",
    "from sklearn.metrics import accuracy_score\n",
    "'''In order to maximize the accuracy of the training data, the model parameters were selected as follows'''\n",
    "model = XGBClassifier(booster ='gbtree',eta =.3,max_depth=4,min_child_weight=1,gamma = .03,subsample=.5,colsample_bytree=.5)\n",
    "model.fit(X_train,y_train.ravel())\n",
    "y_pred = model.predict(X_test)\n",
    "\n",
    "accuracy = accuracy_score(y_test, y_pred)\n",
    "\n",
    "print('Accuracy of Gradient Boosting(XGBoost): ' +  str(accuracy) +'\\n'   )"
   ]
  }
 ],
 "metadata": {
  "kernelspec": {
   "display_name": "Python 3",
   "language": "python",
   "name": "python3"
  },
  "language_info": {
   "codemirror_mode": {
    "name": "ipython",
    "version": 3
   },
   "file_extension": ".py",
   "mimetype": "text/x-python",
   "name": "python",
   "nbconvert_exporter": "python",
   "pygments_lexer": "ipython3",
   "version": "3.7.3"
  }
 },
 "nbformat": 4,
 "nbformat_minor": 2
}
