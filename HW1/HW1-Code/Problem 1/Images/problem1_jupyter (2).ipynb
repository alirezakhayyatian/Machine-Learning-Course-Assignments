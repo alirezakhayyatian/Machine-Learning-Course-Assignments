{
 "cells": [
  {
   "cell_type": "code",
   "execution_count": 120,
   "metadata": {},
   "outputs": [],
   "source": [
    "import pandas as pd\n",
    "import matplotlib.pyplot as plt \n",
    "import numpy as np\n",
    "import random\n",
    "\n",
    "from gradientDescent import gradientDescent\n",
    "\n",
    "#reading from Database uding pandas    \n",
    "df = pd.read_csv ('E:\\Second Term Msc\\Machine learning\\HW\\HW1_ML\\p1_dataset\\data1_Signal.csv')\n",
    "x=np.array(df.x.T)\n",
    "y=np.array(df.y.T)\n",
    "\n",
    "%matplotlib inline\n",
    "\n",
    "#number of whole data\n",
    "all_data=df.size/2\n",
    "\n",
    "#shuffleing data before splitting up\n",
    "x1=x\n",
    "y1=y\n",
    "\n",
    "shuffled_data = list(zip(x, y))\n",
    "\n",
    "random.shuffle(shuffled_data)\n",
    "\n",
    "x, y = zip(*shuffled_data)\n",
    "\n",
    "# m denotes the number of trainnig data = 168\n",
    "m=all_data*.8\n",
    "# s denotes the number of test data =72\n",
    "s=all_data*.2\n",
    "#split up whole data into Training data & Test data\n",
    "x_train = x[0:int(m)]\n",
    "x_test = x[int(m):239]\n",
    "\n",
    "y_train = y[0:int(m)]\n",
    "y_test = y[int(m):239]\n",
    "\n",
    "#generate the matrix of Whole Data base on hyper-parameter for Curve fitting\n",
    "allData_3=np.array([x1 , np.power(x1,2)  , np.power(x1,3) ]).T\n",
    "allData_5=np.array([x1 , np.power(x1,2)  , np.power(x1,3) , np.power(x1,4),np.power(x1,5) ]).T\n",
    "allData_7=np.array([x1 , np.power(x1,2)  , np.power(x1,3) , np.power(x1,4),np.power(x1,5)  , np.power(x1,6)  , np.power(x1,7) ]).T\n",
    "\n",
    "\n",
    "#generate the matrix of Trainnig Data base on hyper-parameter\n",
    "w_3=np.array([x_train , np.power(x_train,2)  , np.power(x_train,3) ]).T\n",
    "w_5=np.array([x_train , np.power(x_train,2)  , np.power(x_train,3) , np.power(x_train,4),np.power(x_train,5) ]).T\n",
    "w_7=np.array([x_train , np.power(x_train,2)  , np.power(x_train,3) , np.power(x_train,4),np.power(x_train,5)  , np.power(x_train,6)  , np.power(x_train,7) ]).T\n",
    "\n",
    "#generate the matrix of Test Data base on hyper-parameter\n",
    "v_3=np.array([x_test , np.power(x_test,2)  , np.power(x_test,3) ]).T\n",
    "v_5=np.array([x_test , np.power(x_test,2)  , np.power(x_test,3) , np.power(x_test,4),np.power(x_test,5) ]).T\n",
    "v_7=np.array([x_test , np.power(x_test,2)  , np.power(x_test,3) , np.power(x_test,4),np.power(x_test,5)  , np.power(x_test,6)  , np.power(x_test,7) ]).T\n",
    "\n"
   ]
  },
  {
   "cell_type": "code",
   "execution_count": 89,
   "metadata": {},
   "outputs": [],
   "source": [
    "# n denote hyper parameter\n",
    "for n in [3,5,7]:\n",
    "    for numIterations in [ 1000,10000]:\n",
    "\n",
    "        alpha = .9\n",
    "        theta_MSE = np.ones(n)\n",
    "        theta_MAE = np.ones(n)\n",
    "        theta_RMSE = np.ones(n)\n",
    "        \n",
    "        #generate matrix of data base on hyper-parameter\n",
    "        if n==3:\n",
    "            x_tr=w_3\n",
    "            x_te=v_3\n",
    "            x_ad= allData_3\n",
    "        elif n==5:\n",
    "            x_tr=w_5\n",
    "            x_te=v_5\n",
    "            x_ad= allData_5\n",
    "        else:\n",
    "            x_tr=w_7\n",
    "            x_te=v_7\n",
    "            x_ad= allData_7\n",
    "            \n",
    "        error_train_MSE = []\n",
    "        error_train_MAE = []\n",
    "        error_train_RMSE = []\n",
    "        \n",
    "        error_test_MSE = []\n",
    "        error_test_MAE = []\n",
    "        error_test_RMSE = []\n",
    "        \n",
    "        gradient_MSE_set = []\n",
    "        gradient_MAE_set = []\n",
    "        gradient_RMSE_set = []\n",
    "        \n",
    "        (theta_MSE,theta_MAE,theta_RMSE) = gradientDescent(x_tr, y_train,x_te,y_test,theta_MSE, theta_MAE, theta_RMSE,\n",
    "        alpha, m,s, numIterations,error_train_MSE , error_train_MAE , error_train_RMSE\n",
    ",error_test_MSE , error_test_MAE , error_test_RMSE\n",
    ",gradient_MSE_set,gradient_MAE_set,gradient_RMSE_set)\n",
    "        \n",
    "\n",
    "        #print((theta_MSE,theta_MAE,theta_RMSE))\n",
    "        if numIterations==1000:\n",
    "            temp=0\n",
    "        else:\n",
    "            temp=1\n",
    "           \n",
    "        #Plot MSE Error    \n",
    "        plt.figure((n+1)/2-1+temp)\n",
    "        #plt.figure(figsize=(2,2), dpi=80)\n",
    "        t=range(0,numIterations)\n",
    "        l1,=plt.plot(t,error_train_MSE,'r-.')\n",
    "        l2,=plt.plot(t,error_test_MSE,'b-.')\n",
    "        plt.title('MSE error( Hyper-parameter={} & Iterations={})'.format(n,numIterations))\n",
    "        plt.legend((l1,l2),('training error','Testing error'), loc = 'best')\n",
    "        plt.savefig('MSEerror_{}_{}.jpg'.format(n,numIterations))\n",
    "        #plt.show()\n",
    "        plt.close()\n",
    "        #MSE error(Hyper-parameter={} & Iterations={}\n",
    "        \n",
    "#         fig=plt.figure((n+1)/2-1+temp)\n",
    "#         #if(((n+1)/2-1+temp )== 1):\n",
    "#         ax=fig.add_axes([.1 ,.1, .85, .85])\n",
    "#         t=range(0,numIterations)\n",
    "#         ax.plot(t,error_train_MSE,'r-.',t,error_test_MSE,'b-.')\n",
    "#         ax.set_title('dcdv')\n",
    "\n",
    "        \n",
    "        \n",
    "        #Plot MAE Error\n",
    "        plt.figure((n+1)/2-1+temp+6)\n",
    "        #plt.figure(figsize=(8,6), dpi=80)\n",
    "        t=range(0,numIterations)\n",
    "        l1,=plt.plot(t,error_train_MAE,'r-.')\n",
    "        l2,=plt.plot(t,error_test_MAE,'b-.')\n",
    "        plt.title('MAE error( Hyper-parameter={} & Iterations={})'.format(n,numIterations))\n",
    "        plt.legend((l1,l2),('Training error','Testing error'), loc = 'best')\n",
    "        plt.savefig('MAEerror_{}_{}.jpg'.format(n,numIterations))\n",
    "        #plt.show()\n",
    "        plt.close()\n",
    "        \n",
    "        \n",
    "        #Plot RMSE Error\n",
    "        plt.figure((n+1)/2-1+temp+6+6)\n",
    "        #plt.figure(figsize=(8,6), dpi=80)\n",
    "        t=range(0,numIterations)\n",
    "        l1,=plt.plot(t,error_train_RMSE,'r-.')\n",
    "        l2,=plt.plot(t,error_test_RMSE,'b-.')\n",
    "        plt.title('RMSE error( Hyper-parameter={} & Iterations={})'.format(n,numIterations))\n",
    "        plt.legend((l1,l2),('Training error','Testing error'), loc = 'best')\n",
    "        plt.savefig('RMSEerror_{}_{}.jpg'.format(n,numIterations))\n",
    "        #plt.show()\n",
    "        plt.close()\n",
    "        \n",
    "        \n",
    "        \n",
    "        \n",
    "        #Plot whole data consist of Traning set and Testing Set alongside Curve Fitting\n",
    "        #MSE\n",
    "        plt.figure((n+1)/2-1+temp+6+6+6)\n",
    "        \n",
    "        #plt.figure(figsize=(6, 6), dpi=80)        \n",
    "        l1,=plt.plot(df.x,df.y,'ob')\n",
    "        \n",
    "        l2,=plt.plot(df.x,np.dot(x_ad, theta_MSE),'r*')\n",
    "        plt.title('MSE Curve fitting( Hyper-parameter={} & Iterations={})'.format(n,numIterations))\n",
    "        plt.legend((l1,l2),('Raw data','Curve Fitting'), loc = 'best')\n",
    "        plt.savefig('MSErrorCurveFitting_{}_{}.jpg'.format(n,numIterations))\n",
    "        #plt.show()\n",
    "        plt.close()\n",
    "\n",
    "\n",
    "        #MAE\n",
    "        plt.figure((n+1)/2-1+temp+6+6+6+6)\n",
    "        \n",
    "        #plt.figure(figsize=(6, 6), dpi=80)        \n",
    "        l1,=plt.plot(df.x,df.y,'ob')\n",
    "        \n",
    "        l2,=plt.plot(df.x,np.dot(x_ad, theta_MAE),'r*')\n",
    "        plt.title('MAE Curve fitting( Hyper-parameter={} & Iterations={})'.format(n,numIterations))\n",
    "        plt.legend((l1,l2),('Raw data','Curve Fitting'), loc = 'best')\n",
    "        plt.savefig('MAErrorCurveFitting_{}_{}.jpg'.format(n,numIterations))\n",
    "        #plt.show()\n",
    "        plt.close()\n",
    "\n",
    "\n",
    "        #RMSE\n",
    "        plt.figure((n+1)/2-1+temp+6+6+6+6+6)\n",
    "        \n",
    "        #plt.figure(figsize=(6, 6), dpi=80)        \n",
    "        l1,=plt.plot(df.x,df.y,'ob')\n",
    "        \n",
    "        l2,=plt.plot(df.x,np.dot(x_ad, theta_RMSE),'r*')\n",
    "        plt.title('RMSE Curve fitting( Hyper-parameter={} & Iterations={})'.format(n,numIterations))\n",
    "        plt.legend((l1,l2),('Raw data','Curve Fitting'), loc = 'best')\n",
    "        plt.savefig('RMSErrorCurveFitting_{}_{}.jpg'.format(n,numIterations))\n",
    "        #plt.show()\n",
    "        plt.close()\n",
    "\n",
    "        #plot Step size\n",
    "        \n",
    "        #MSE\n",
    "        #plt.figure((n+1)/2-1+temp+6+6+6+6+6+6)\n",
    "        \n",
    "        #plt.figure(figsize=(6, 6), dpi=80)        \n",
    "        plt.plot(t,gradient_MSE_set,'ob')\n",
    "        \n",
    "        plt.title('MSE Step size( Hyper-parameter={} & Iterations={})'.format(n,numIterations))\n",
    "        plt.savefig('MSErrorStepSize_{}_{}.jpg'.format(n,numIterations))\n",
    "        #plt.show()\n",
    "        plt.close()\n",
    "\n",
    "        #MAE\n",
    "        #plt.figure((n+1)/2-1+temp+6+6+6+6+6+6+6)\n",
    "        \n",
    "        #plt.figure(figsize=(6, 6), dpi=80)        \n",
    "        plt.plot(t,gradient_MAE_set,'ob')\n",
    "        \n",
    "        plt.title('MAE Step size( Hyper-parameter={} & Iterations={})'.format(n,numIterations))\n",
    "        plt.savefig('MAErrorStepSize_{}_{}.jpg'.format(n,numIterations))\n",
    "        #plt.show()\n",
    "        plt.close()\n",
    "\n",
    "        #RMSE\n",
    "        plt.figure((n+1)/2-1+temp+6+6+6+6+6+6+6+6)\n",
    "        \n",
    "        #plt.figure(figsize=(6, 6), dpi=80)        \n",
    "        plt.plot(t,gradient_RMSE_set,'ob')\n",
    "        \n",
    "        plt.title('RMSE Step size( Hyper-parameter={} & Iterations={})'.format(n,numIterations))\n",
    "        plt.savefig('RMSErrorStepSize_{}_{}.jpg'.format(n,numIterations))\n",
    "        #plt.show()\n",
    "        plt.close()\n",
    "\n",
    "\n",
    "\n",
    "        \n",
    "        \n"
   ]
  },
  {
   "cell_type": "markdown",
   "metadata": {},
   "source": [
    "# $\\;\\;\\;\\;\\;\\;\\;\\;\\;\\;\\;\\;\\;\\;\\;\\;\\;\\;\\;\\;\\;\\;\\;\\;\\;\\;\\;\\;\\;\\;\\;\\;\\;$ Mean Square Error\n"
   ]
  },
  {
   "cell_type": "markdown",
   "metadata": {},
   "source": [
    "### Hyper-parameter = 3 Iteration = 1000\n",
    "\n",
    "Error | Step Size \n",
    "- | - \n",
    "![alt](MSEerror_3_1000.jpg) | ![alt](MSErrorStepSize_3_1000.jpg)"
   ]
  },
  {
   "cell_type": "markdown",
   "metadata": {},
   "source": [
    "### Hyper-parameter = 5 Iteration = 1000\n",
    "\n",
    "Error | Step Size \n",
    "- | - \n",
    "![alt](MSEerror_5_1000.jpg) | ![alt](MSErrorStepSize_5_1000.jpg)"
   ]
  },
  {
   "cell_type": "markdown",
   "metadata": {},
   "source": [
    "### Hyper-parameter = 7 Iteration = 1000\n",
    "\n",
    "Error | Step Size \n",
    "- | - \n",
    "![alt](MSEerror_7_1000.jpg) | ![alt](MSErrorStepSize_7_1000.jpg)"
   ]
  },
  {
   "cell_type": "markdown",
   "metadata": {},
   "source": [
    "### Hyper-parameter = 3 Iteration = 10000\n",
    "\n",
    "Error | Step Size \n",
    "- | - \n",
    "![alt](MSEerror_3_10000.jpg) | ![alt](MSErrorStepSize_3_10000.jpg)"
   ]
  },
  {
   "cell_type": "markdown",
   "metadata": {},
   "source": [
    "### Hyper-parameter = 5 Iteration = 10000\n",
    "\n",
    "Error | Step Size \n",
    "- | - \n",
    "![alt](MSEerror_5_10000.jpg) | ![alt](MSErrorStepSize_5_10000.jpg)"
   ]
  },
  {
   "cell_type": "markdown",
   "metadata": {},
   "source": [
    "### Hyper-parameter = 7 Iteration = 10000\n",
    "\n",
    "Error | Step Size \n",
    "- | - \n",
    "![alt](MSEerror_7_10000.jpg) | ![alt](MSErrorStepSize_7_10000.jpg)"
   ]
  },
  {
   "cell_type": "markdown",
   "metadata": {},
   "source": [
    "\n",
    "# $\\;\\;\\;\\;\\;\\;\\;\\;\\;\\;\\;\\;\\;\\;\\;\\;\\;\\;\\;\\;\\;\\;\\;\\;\\;\\;\\;\\;\\;\\;\\;\\;\\;$ Mean Absolute Error\n"
   ]
  },
  {
   "cell_type": "markdown",
   "metadata": {},
   "source": [
    "### Hyper-parameter = 3 Iteration = 1000\n",
    "\n",
    "Error | Step Size \n",
    "- | - \n",
    "![alt](MAEerror_3_1000.jpg) | ![alt](MAErrorStepSize_3_1000.jpg)"
   ]
  },
  {
   "cell_type": "markdown",
   "metadata": {},
   "source": [
    "### Hyper-parameter = 5 Iteration = 1000\n",
    "\n",
    "Error | Step Size \n",
    "- | - \n",
    "![alt](MAEerror_5_1000.jpg) | ![alt](MAErrorStepSize_5_1000.jpg)"
   ]
  },
  {
   "cell_type": "markdown",
   "metadata": {},
   "source": [
    "### Hyper-parameter = 7 Iteration = 1000\n",
    "\n",
    "Error | Step Size \n",
    "- | - \n",
    "![alt](MAEerror_7_1000.jpg) | ![alt](MAErrorStepSize_7_1000.jpg)"
   ]
  },
  {
   "cell_type": "markdown",
   "metadata": {},
   "source": [
    "### Hyper-parameter = 3 Iteration = 10000\n",
    "\n",
    "Error | Step Size \n",
    "- | - \n",
    "![alt](MAEerror_3_10000.jpg) | ![alt](MAErrorStepSize_3_10000.jpg)"
   ]
  },
  {
   "cell_type": "markdown",
   "metadata": {},
   "source": [
    "### Hyper-parameter = 5 Iteration = 10000\n",
    "\n",
    "Error | Step Size \n",
    "- | - \n",
    "![alt](MAEerror_5_10000.jpg) | ![alt](MAErrorStepSize_5_10000.jpg)"
   ]
  },
  {
   "cell_type": "markdown",
   "metadata": {},
   "source": [
    "### Hyper-parameter = 7 Iteration = 10000\n",
    "\n",
    "Error | Step Size \n",
    "- | - \n",
    "![alt](MAEerror_7_10000.jpg) | ![alt](MAErrorStepSize_7_10000.jpg)"
   ]
  },
  {
   "cell_type": "markdown",
   "metadata": {},
   "source": [
    "# $\\;\\;\\;\\;\\;\\;\\;\\;\\;\\;\\;\\;\\;\\;\\;\\;\\;\\;\\;\\;\\;\\;\\;\\;\\;\\;\\;\\;\\;\\;\\;$Root Mean Square Error\n"
   ]
  },
  {
   "cell_type": "markdown",
   "metadata": {},
   "source": [
    "### Hyper-parameter = 3 Iteration = 1000\n",
    "\n",
    "Error | Step Size \n",
    "- | - \n",
    "![alt](RMSEerror_3_1000.jpg) | ![alt](RMSErrorStepSize_3_1000.jpg)"
   ]
  },
  {
   "cell_type": "markdown",
   "metadata": {},
   "source": [
    "### Hyper-parameter = 5 Iteration = 1000\n",
    "\n",
    "Error | Step Size \n",
    "- | - \n",
    "![alt](RMSEerror_5_1000.jpg) | ![alt](RMSErrorStepSize_5_1000.jpg)"
   ]
  },
  {
   "cell_type": "markdown",
   "metadata": {},
   "source": [
    "### Hyper-parameter = 7 Iteration = 1000\n",
    "\n",
    "Error | Step Size \n",
    "- | - \n",
    "![alt](RMSEerror_7_1000.jpg) | ![alt](RMSErrorStepSize_7_1000.jpg)"
   ]
  },
  {
   "cell_type": "markdown",
   "metadata": {},
   "source": [
    "### Hyper-parameter = 3 Iteration = 10000\n",
    "\n",
    "Error | Step Size \n",
    "- | - \n",
    "![alt](RMSEerror_3_10000.jpg) | ![alt](RMSErrorStepSize_3_10000.jpg)"
   ]
  },
  {
   "cell_type": "markdown",
   "metadata": {},
   "source": [
    "### Hyper-parameter = 5 Iteration = 10000\n",
    "\n",
    "Error | Step Size \n",
    "- | - \n",
    "![alt](RMSEerror_5_10000.jpg) | ![alt](RMSErrorStepSize_5_10000.jpg)"
   ]
  },
  {
   "cell_type": "markdown",
   "metadata": {},
   "source": [
    "### Hyper-parameter = 7 Iteration = 10000\n",
    "\n",
    "Error | Step Size \n",
    "- | - \n",
    "![alt](RMSEerror_7_10000.jpg) | ![alt](RMSErrorStepSize_7_10000.jpg)"
   ]
  },
  {
   "cell_type": "markdown",
   "metadata": {},
   "source": [
    "# $\\;\\;\\;\\;\\;\\;\\;\\;\\;\\;\\;\\;\\;\\;\\;\\;\\;\\;\\;\\;\\;\\;\\;\\;\\;\\;\\;\\;\\;\\;\\;\\;\\;\\;$Curve Fitting(MSE)\n"
   ]
  },
  {
   "cell_type": "markdown",
   "metadata": {},
   "source": [
    "### Hyper-parameter = 3\n",
    "\n",
    "Iteration = 1000 | Iteration = 10000 \n",
    "- | - \n",
    "![alt](MSErrorCurveFitting_3_1000.jpg) | ![alt](MSErrorCurveFitting_3_10000.jpg)"
   ]
  },
  {
   "cell_type": "markdown",
   "metadata": {},
   "source": [
    "### Hyper-parameter = 5\n",
    "\n",
    "Iteration = 1000 | Iteration = 10000 \n",
    "- | - \n",
    "![alt](MSErrorCurveFitting_5_1000.jpg) | ![alt](MSErrorCurveFitting_5_10000.jpg)"
   ]
  },
  {
   "cell_type": "markdown",
   "metadata": {},
   "source": [
    "### Hyper-parameter = 7\n",
    "\n",
    "Iteration = 1000 | Iteration = 10000 \n",
    "- | - \n",
    "![alt](MSErrorCurveFitting_7_1000.jpg) | ![alt](MSErrorCurveFitting_7_10000.jpg)\n"
   ]
  },
  {
   "cell_type": "markdown",
   "metadata": {},
   "source": [
    "# $\\;\\;\\;\\;\\;\\;\\;\\;\\;\\;\\;\\;\\;\\;\\;\\;\\;\\;\\;\\;\\;\\;\\;\\;\\;\\;\\;\\;\\;\\;\\;\\;\\;\\;$Curve Fitting(MAE)\n"
   ]
  },
  {
   "cell_type": "markdown",
   "metadata": {},
   "source": [
    "### Hyper-parameter = 3\n",
    "\n",
    "Iteration = 1000 | Iteration = 10000 \n",
    "- | - \n",
    "![alt](MAErrorCurveFitting_3_1000.jpg) | ![alt](MAErrorCurveFitting_3_10000.jpg)"
   ]
  },
  {
   "cell_type": "markdown",
   "metadata": {},
   "source": [
    "### Hyper-parameter = 5\n",
    "\n",
    "Iteration = 1000 | Iteration = 10000 \n",
    "- | - \n",
    "![alt](MAErrorCurveFitting_5_1000.jpg) | ![alt](MAErrorCurveFitting_5_10000.jpg)"
   ]
  },
  {
   "cell_type": "markdown",
   "metadata": {},
   "source": [
    "### Hyper-parameter = 7\n",
    "\n",
    "Iteration = 1000 | Iteration = 10000 \n",
    "- | - \n",
    "![alt](MAErrorCurveFitting_7_1000.jpg) | ![alt](MAErrorCurveFitting_7_10000.jpg)"
   ]
  },
  {
   "cell_type": "markdown",
   "metadata": {},
   "source": [
    "# $\\;\\;\\;\\;\\;\\;\\;\\;\\;\\;\\;\\;\\;\\;\\;\\;\\;\\;\\;\\;\\;\\;\\;\\;\\;\\;\\;\\;\\;\\;\\;\\;\\;\\;$Curve Fitting(RMSE)\n"
   ]
  },
  {
   "cell_type": "markdown",
   "metadata": {},
   "source": [
    "### Hyper-parameter = 3\n",
    "\n",
    "Iteration = 1000 | Iteration = 10000 \n",
    "- | - \n",
    "![alt](RMSErrorCurveFitting_3_1000.jpg) | ![alt](RMSErrorCurveFitting_3_10000.jpg)"
   ]
  },
  {
   "cell_type": "markdown",
   "metadata": {},
   "source": [
    "### Hyper-parameter = 5\n",
    "\n",
    "Iteration = 1000 | Iteration = 10000 \n",
    "- | - \n",
    "![alt](RMSErrorCurveFitting_5_1000.jpg) | ![alt](RMSErrorCurveFitting_5_10000.jpg)"
   ]
  },
  {
   "cell_type": "markdown",
   "metadata": {},
   "source": [
    "### Hyper-parameter = 7\n",
    "\n",
    "Iteration = 1000 | Iteration = 10000 \n",
    "- | - \n",
    "![alt](RMSErrorCurveFitting_7_1000.jpg) | ![alt](RMSErrorCurveFitting_7_10000.jpg)"
   ]
  },
  {
   "cell_type": "markdown",
   "metadata": {},
   "source": [
    "# $\\;\\;\\;\\;\\;\\;\\;\\;\\;\\;\\;\\;\\;\\;\\;$ Part B: Normal Equation ( Without Regularization ) "
   ]
  },
  {
   "cell_type": "code",
   "execution_count": 110,
   "metadata": {},
   "outputs": [],
   "source": [
    "#reading from Database uding pandas    \n",
    "df = pd.read_csv ('E:\\Second Term Msc\\Machine learning\\HW\\HW1_ML\\p1_dataset\\data1_Signal.csv')\n",
    "x=np.array(df.x.T)\n",
    "y=np.array(df.y.T)\n",
    "\n",
    "all_data=df.size/2\n",
    "\n",
    "#shuffleing data before splitting up\n",
    "x1=x\n",
    "y1=y\n",
    "\n",
    "shuffled_data = list(zip(x, y))\n",
    "\n",
    "random.shuffle(shuffled_data)\n",
    "\n",
    "x, y = zip(*shuffled_data)\n",
    "\n",
    "# m denotes the number of trainnig data = 168\n",
    "m=all_data*.8\n",
    "# s denotes the number of test data =72\n",
    "s=all_data*.2\n",
    "\n",
    "#split up whole data into Training data & Test data\n",
    "#167 -->.7\n",
    "x_train = x[0:int(m)]\n",
    "x_test = x[int(m):240]\n",
    "\n",
    "y_train = y[0:int(m)]\n",
    "y_test = y[int(m):240]\n",
    "\n",
    "#generate the matrix of Trainnig Data base on hyper-parameter\n",
    "x_train_3=np.array( [np.ones(int(m)), x_train , np.power(x_train,2)  , np.power(x_train,3) ]).T\n",
    "x_train_5=np.array( [np.ones(int(m)), x_train , np.power(x_train,2)  , np.power(x_train,3) , np.power(x_train,4),np.power(x_train,5)]).T\n",
    "\n",
    "x_train_7=np.array([np.ones(int(m)), x_train , np.power(x_train,2)  , np.power(x_train,3)\n",
    " , np.power(x_train,4),np.power(x_train,5)  , np.power(x_train,6)  , np.power(x_train,7) ]).T\n",
    "\n",
    "#generate the matrix of Test Data base on hyper-parameter\n",
    "x_test_3=np.array( [np.ones(int(s)), x_test , np.power(x_test,2)  , np.power(x_test,3) ]).T\n",
    "x_test_5=np.array( [np.ones(int(s)), x_test , np.power(x_test,2)  , np.power(x_test,3) , np.power(x_test,4),np.power(x_test,5)]).T\n",
    "x_test_7=np.array([np.ones(int(s)), x_test , np.power(x_test,2)  , np.power(x_test,3) , np.power(x_test,4),np.power(x_test,5)  , np.power(x_test,6)  , np.power(x_test,7) ]).T\n",
    "\n",
    "#generate the matrix of Whole Data base on hyper-parameter for Curve fitting\n",
    "x_all_3 = np.array( [np.ones(int(all_data)), x1 , np.power(x1,2)  , np.power(x1,3) ]).T\n",
    "x_all_5 =np.array( [np.ones(int(all_data)), x1 , np.power(x1,2)  , np.power(x1,3) , np.power(x1,4),np.power(x1,5)]).T\n",
    "\n",
    "x_all_7=np.array([np.ones(int(all_data)), x1 , np.power(x1,2)  , np.power(x1,3) \n",
    ", np.power(x1,4),np.power(x1,5)  , np.power(x1,6)  , np.power(x1,7) ]).T\n",
    "\n",
    "\n",
    "\n",
    "for n in [3, 5 ,7]:\n",
    "    if n==3:\n",
    "        x_tr=x_train_3\n",
    "        x_te=x_test_3\n",
    "        x_ad= x_all_3\n",
    "    elif n==5:\n",
    "        x_tr=x_train_5\n",
    "        x_te=x_test_5\n",
    "        x_ad= x_all_5\n",
    "    else:\n",
    "        x_tr=x_train_7\n",
    "        x_te=x_test_7\n",
    "        x_ad= x_all_7\n",
    "    \n",
    "    theta = np.linalg.inv( x_tr.T.dot(x_tr)  ).dot(x_tr.T).dot(y_train)\n",
    "    \n",
    "    plt.figure(figsize=(6, 6), dpi=80)        \n",
    "    l1,=plt.plot(df.x,df.y,'ob')\n",
    "    \n",
    "    l2,=plt.plot(df.x,np.dot(x_ad, theta),'r*')\n",
    "    plt.title('Nornal Equation Curve Fitting( Hyper-parameter={})'.format(n))\n",
    "    plt.legend((l1,l2),('Raw data','Curve Fitting'), loc = 'best')\n",
    "    plt.savefig('NornalEquationCurveFitting_{}.jpg'.format(n))\n",
    "    #plt.show()\n",
    "    plt.close()\n"
   ]
  },
  {
   "cell_type": "markdown",
   "metadata": {},
   "source": [
    "# $\\;\\;\\;\\;\\;\\;\\;\\;\\;\\;\\;\\;\\;\\;\\;\\;\\;\\;$ Curve Fitting ( Without Regularization ) "
   ]
  },
  {
   "cell_type": "markdown",
   "metadata": {},
   "source": [
    "Hyper-parameter=3 | Hyper-parameter=5 \n",
    "- | - \n",
    "![alt](NornalEquationCurveFitting_3.jpg) | ![alt](NornalEquationCurveFitting_5.jpg)"
   ]
  },
  {
   "cell_type": "markdown",
   "metadata": {},
   "source": [
    "Hyper-parameter=5 | Hyper-parameter=7 \n",
    "- | - \n",
    "![alt](NornalEquationCurveFitting_5.jpg) | ![alt](NornalEquationCurveFitting_7.jpg)"
   ]
  },
  {
   "cell_type": "markdown",
   "metadata": {},
   "source": [
    "# Conclusion 1\n",
    "<span style=\"color:blue;  font-size: 1.5em;\">***In compared to gradient descent  here result in using normal equation for this problem casue overfitting Especially when hyper-parameter is 7. generally Normal equation is more accurate than gradient descent but it has more Computational complexity***</span>"
   ]
  },
  {
   "cell_type": "markdown",
   "metadata": {},
   "source": [
    "# $\\;\\;\\;\\;\\;\\;\\;\\;\\;\\;\\;\\;\\;\\;\\;$ Part C: Normal Equation ( With Regularization ) "
   ]
  },
  {
   "cell_type": "code",
   "execution_count": 116,
   "metadata": {},
   "outputs": [],
   "source": [
    "L=np.eye(6)\n",
    "L[0,0]=0\n",
    "error_train_MSE_set=[]\n",
    "error_test_MSE_set=[]\n",
    "theta_5_regularized_set=[]\n",
    "for _lambda in [5 ,50, 500]:\n",
    "    theta_5_regularized = np.linalg.inv( x_train_5.T.dot(x_train_5)  +_lambda*L ).dot(x_train_5.T).dot(y_train)\n",
    "    theta_5_regularized_set.append(theta_5_regularized)\n",
    "    \n",
    "    plt.figure(figsize=(6, 6), dpi=80)        \n",
    "    l1,=plt.plot(df.x,df.y,'ob')\n",
    "\n",
    "    l2,=plt.plot(df.x,np.dot(x_all_5, theta_5_regularized),'r*')\n",
    "    plt.title('Regularized Normal Equation Curve fitting(lambda={})'.format(_lambda))\n",
    "    plt.legend((l1,l2),('Raw data','Curve Fitting'), loc = 'best')\n",
    "    plt.savefig('RegularizedNormalEquationCurvefitting_{}.jpg'.format(_lambda))\n",
    "    #plt.show()\n",
    "    plt.close()\n",
    "\n",
    "    \n",
    "    #MSE error\n",
    "    error_train_MSE = np.dot(  (np.dot(x_train_5, theta_5_regularized)-y_train).T , np.dot(x_train_5, theta_5_regularized)-y_train )/(2*m)\n",
    "    error_train_MSE_set.append( error_train_MSE)\n",
    "\n",
    "    error_test_MSE = np.dot(  (np.dot(x_test_5, theta_5_regularized)-y_test).T , np.dot(x_test_5, theta_5_regularized)-y_test )/(2*s)\n",
    "    error_test_MSE_set.append(error_test_MSE)\n"
   ]
  },
  {
   "cell_type": "markdown",
   "metadata": {},
   "source": [
    "# $\\;\\;\\;\\;\\;\\;\\;\\;\\;\\;\\;\\;\\;\\;\\;\\;\\;\\;$ Curve Fitting ( With Regularization ) "
   ]
  },
  {
   "cell_type": "markdown",
   "metadata": {},
   "source": [
    "Lambda = 5 | Lambda = 50 \n",
    "- | - \n",
    "![alt](RegularizedNormalEquationCurvefitting_5.jpg) | ![alt](RegularizedNormalEquationCurvefitting_50.jpg)"
   ]
  },
  {
   "cell_type": "markdown",
   "metadata": {},
   "source": [
    "Lambda = 50 | Lambda = 500 \n",
    "- | - \n",
    "![alt](RegularizedNormalEquationCurvefitting_50.jpg) | ![alt](RegularizedNormalEquationCurvefitting_500.jpg)"
   ]
  },
  {
   "cell_type": "markdown",
   "metadata": {},
   "source": [
    "# Conclusion 2\n",
    "<span style=\"color:blue;  font-size: 1.5em;\">***as can be seen, Large values of the $\\lambda$ it reduces fluctuation between coefficients of hypothesis function,in the other hand Increasing effectiveness of regularization caused the model become high bias***</span>"
   ]
  },
  {
   "cell_type": "code",
   "execution_count": null,
   "metadata": {},
   "outputs": [],
   "source": []
  }
 ],
 "metadata": {
  "kernelspec": {
   "display_name": "Python 3",
   "language": "python",
   "name": "python3"
  },
  "language_info": {
   "codemirror_mode": {
    "name": "ipython",
    "version": 3
   },
   "file_extension": ".py",
   "mimetype": "text/x-python",
   "name": "python",
   "nbconvert_exporter": "python",
   "pygments_lexer": "ipython3",
   "version": "3.7.3"
  }
 },
 "nbformat": 4,
 "nbformat_minor": 2
}
