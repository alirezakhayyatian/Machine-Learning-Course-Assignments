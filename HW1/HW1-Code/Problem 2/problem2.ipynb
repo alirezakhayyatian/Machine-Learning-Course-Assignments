{
 "cells": [
  {
   "cell_type": "code",
   "execution_count": 3,
   "metadata": {},
   "outputs": [],
   "source": [
    "import pandas as pd\n",
    "import matplotlib.pyplot as plt \n",
    "import numpy as np\n",
    "import seaborn as sn\n",
    "\n",
    "from gradientDescentProblem2 import gradientDescent\n",
    "\n",
    "\n",
    "#reading from Database uding pandas    \n",
    "df = pd.read_csv ('data2_house_data.csv')\n",
    "\n",
    "#Draw data based on coordinates\n",
    "x=df.lat\n",
    "y=df.long\n",
    "\n",
    "#plt.figure(figsize=(5, 5), dpi=80)\n",
    "plt.plot(x,y,'ob')\n",
    "plt.title('Coodinates of data')\n",
    "plt.savefig('Images\\HomesCoordinate.jpg')\n",
    "#plt.show()\n",
    "plt.close()"
   ]
  },
  {
   "cell_type": "markdown",
   "metadata": {},
   "source": [
    "## Map \n",
    "Coordinates |\n",
    "- |\n",
    "![alt](Images\\HomesCoordinate.jpg) \n"
   ]
  },
  {
   "cell_type": "markdown",
   "metadata": {},
   "source": [
    "# $\\;\\;\\;\\;\\;\\;\\;\\;\\;\\;\\;\\;\\;\\;\\;\\;\\;\\;\\;\\;\\;\\;\\;\\;\\;\\;\\;$ Part B: Correlation Matrix Heatmap"
   ]
  },
  {
   "cell_type": "code",
   "execution_count": 4,
   "metadata": {},
   "outputs": [
    {
     "data": {
      "text/plain": [
       "id               0\n",
       "date             0\n",
       "price            0\n",
       "bedrooms         0\n",
       "bathrooms        0\n",
       "sqft_living      0\n",
       "sqft_lot         0\n",
       "floors           0\n",
       "waterfront       0\n",
       "view             0\n",
       "condition        0\n",
       "grade            0\n",
       "sqft_above       0\n",
       "sqft_basement    0\n",
       "yr_built         0\n",
       "yr_renovated     0\n",
       "zipcode          0\n",
       "lat              0\n",
       "long             0\n",
       "sqft_living15    0\n",
       "sqft_lot15       0\n",
       "dtype: int64"
      ]
     },
     "execution_count": 4,
     "metadata": {},
     "output_type": "execute_result"
    }
   ],
   "source": [
    "#Separate related features from output price\n",
    "\n",
    "df = pd.read_csv ('data2_house_data.csv')\n",
    "df_features=pd.read_csv ('data2_house_data.csv')\n",
    "price = df_features.pop('price')\n",
    "date = df_features.pop('date')\n",
    "id = df_features.pop('id')\n",
    "\n",
    "\n",
    "#this corr map is used to find the correlation between the attributes and the pricing so as to \n",
    "#get an idea about the relationship between them.\n",
    "\n",
    "\n",
    "plt.figure(figsize=(12, 10), dpi=80)\n",
    "sn.heatmap(df.corr(),annot = True)\n",
    "#sn.heatmap(corrMatrix, annot=True)\n",
    "plt.title('Correlation Matrix Heatmap')\n",
    "plt.savefig('Images\\CorrelationMatrixHeatmap.jpg')\n",
    "#plt.show()\n",
    "plt.close()\n",
    "\n",
    "#Separate related features from irrelevant features\n",
    "df_relevant=pd.read_csv ('data2_house_data.csv')\n",
    "price = df_relevant.pop('price')\n",
    "date = df_relevant.pop('date')\n",
    "id = df_relevant.pop('id')\n",
    "\n",
    "#irrelevant features obtained from feature selection\n",
    "condition = df_relevant.pop('condition')\n",
    "long = df_relevant.pop('long')\n",
    "#df_relevant = df_features.iloc[:,2:20]\n",
    "\n",
    "corrMatrix_relevant = df_relevant.corr()\n",
    "\n",
    "plt.figure(figsize=(12,10), dpi=80)\n",
    "sn.heatmap(corrMatrix_relevant, annot=True)\n",
    "plt.title('Correlation Matrix Heatmap(after removing irrelevant features)')\n",
    "plt.savefig('Images\\CorrelationMatrixHeatmapAfterRremovingIrrelevantFeatures.jpg')\n",
    "#plt.show()\n",
    "plt.close()\n",
    "\n",
    "\n",
    "#First thing I will check is the null values: I will use .isna() for that purpose.\n",
    "df.isna().sum()"
   ]
  },
  {
   "cell_type": "markdown",
   "metadata": {},
   "source": [
    "## Correlation Matrix Heatmap \n",
    "###  Befor featue selection \n",
    "Befor featue selection |\n",
    "- |\n",
    "![alt](Images\\CorrelationMatrixHeatmap.jpg) \n"
   ]
  },
  {
   "cell_type": "markdown",
   "metadata": {},
   "source": [
    "# # Conclusion 1\n",
    " <span style=\"color:blue;  font-size: 1.5em;\">as can be seen, based on correlation between price as an output and features price,date and id as irrelevent features can be removed from features \n",
    "also as the second part of feature selection we find out  the most effective features are ***\"sqft_living\"*** and ***\"grade\"*** \n",
    "and the least effective featue are ***\"condition\"*** and ***\"long\"***\n",
    "this determinations are based this rule that correlation should be between 0.5 and .9 for acceptable features</span>\n",
    "\n"
   ]
  },
  {
   "cell_type": "markdown",
   "metadata": {},
   "source": [
    "## Correlation Matrix Heatmap \n",
    "###  After featue selection \n",
    "\n",
    "After featue selection |\n",
    "- |\n",
    "![alt](Images\\CorrelationMatrixHeatmapAfterRremovingIrrelevantFeatures.jpg) \n"
   ]
  },
  {
   "cell_type": "code",
   "execution_count": 68,
   "metadata": {},
   "outputs": [],
   "source": [
    "#number of all features\n",
    "n=18\n",
    "\n",
    "\n",
    "\n",
    "#number of all data\n",
    "all_data = int(df_features.size/n)\n",
    "# number of traning data\n",
    "m= int(all_data*.8)\n",
    "# number of testing data\n",
    "s= int(all_data*.2)\n",
    "\n",
    "#all feature data\n",
    "x_all = np.array(df_features.iloc[:,0:19].T)\n",
    "y_all = np.array(price.T)\n",
    "\n",
    "#traning set\n",
    "x_train = np.array(df_features.iloc[0:m,0:19].T)\n",
    "y_train = np.array(price[0:m].T)\n",
    "\n",
    "#testing set\n",
    "x_test = np.array(df_features.iloc[m:all_data,0:19].T)\n",
    "y_test = np.array(price[m:all_data].T)\n",
    "\n",
    "\n",
    "hyperParameter = 3\n",
    "x_train_3=np.r_[ x_train , np.power(x_train,2)  , np.power(x_train,3) ].T\n",
    "\n",
    "x_test_3=np.r_[ x_test , np.power(x_test,2)  , np.power(x_test,3) ].T\n",
    "x_all_3 = np.r_[x_all , np.power(x_all,2)  , np.power(x_all,3) ].T\n",
    "\n",
    "\n",
    "\n",
    "error_train_MSE = []\n",
    "error_test_MSE = []\n",
    "gradient_MSE_set = []\n",
    "\n",
    "\n",
    "\n",
    "#theta_MSE = gradientDescent(x_train_3, y_train,x_test_3,y_test,theta_MSE,alpha, m,s, numIterations\n",
    "#                            ,error_train_MSE ,error_test_MSE,gradient_MSE_set)\n",
    "\n",
    "alpha = 1e-10\n",
    "theta_MSE = 1*np.zeros(n*1)\n",
    "\n",
    "numIterations=100000\n",
    "x=x_train.T\n",
    "y=y_train\n",
    "x_test=x_test.T\n",
    "xTrans = x.transpose()\n",
    "\n",
    "for i in range(0, numIterations):\n",
    "    \n",
    "    #print(i)\n",
    "    hypothesis_MSE = np.dot(x, theta_MSE)\n",
    "    \n",
    "    loss_MSE = hypothesis_MSE - y\n",
    "\n",
    "    # avg cost per example (the 2 in 2*m doesn't really matter here.\n",
    "    # But to be consistent with the gradient, I include it)\n",
    "    \n",
    "    cost_MSE = np.sum(loss_MSE ** 2) / (2 * m) #MSE\n",
    "    \n",
    "    #print(\"Iteration %d | Cost: %f\" % (i, cost))\n",
    "    # avg gradient per example\n",
    "    gradient_MSE = np.dot(xTrans, loss_MSE) / m\n",
    "    # update\n",
    "    theta_MSE = theta_MSE - alpha * gradient_MSE\n",
    "    \n",
    "    error_train_MSE.append(cost_MSE)\n",
    "    \n",
    "    gradient_MSE_set.append(gradient_MSE)\n",
    "    \n",
    "    #calculate Test Error    \n",
    "    hypothesis_test_MSE = np.dot(x_test, theta_MSE)\n",
    "\n",
    "    loss_test_MSE = hypothesis_test_MSE - y_test\n",
    "\n",
    "    # avg cost per example (the 2 in 2*m doesn't really matter here.\n",
    "    # But to be consistent with the gradient, I include it)\n",
    "    \n",
    "    cost_test_MSE = np.sum(loss_test_MSE ** 2) / (2 * s) #MSE\n",
    "\n",
    "    error_test_MSE.append(cost_test_MSE)\n",
    "    "
   ]
  },
  {
   "cell_type": "code",
   "execution_count": 111,
   "metadata": {},
   "outputs": [],
   "source": [
    "hypothesis_MSE = np.dot(x_all.T, theta_MSE)\n",
    "\n",
    "plt.figure(figsize=(12, 10), dpi=80)\n",
    "t=range(0,y_all.size)\n",
    "l1,=plt.plot(t,y_all,'ob')\n",
    "l2,=plt.plot(t,hypothesis_MSE,'*r')\n",
    "plt.title('Curve Fitting')\n",
    "plt.legend((l1,l2),('Raw data','Curve Fitting'), loc = 'best')\n",
    "plt.savefig('Images\\CurveFitting.jpg')\n",
    "#plt.show()\n",
    "plt.close()\n"
   ]
  },
  {
   "cell_type": "markdown",
   "metadata": {},
   "source": [
    "# $\\;\\;\\;\\;\\;\\;\\;\\;\\;\\;\\;\\;\\;\\;\\;\\;\\;\\;\\;\\;\\;\\;\\;\\;\\;\\;\\;\\;\\;\\;\\;$ Before Feature Selection "
   ]
  },
  {
   "cell_type": "markdown",
   "metadata": {},
   "source": [
    "before Feature Selection  | \n",
    " - | \n",
    " ![alt](Images\\CurveFitting.jpg) |"
   ]
  },
  {
   "cell_type": "code",
   "execution_count": 113,
   "metadata": {},
   "outputs": [],
   "source": [
    "plt.figure(figsize=(7,7), dpi=80)\n",
    "t=range(0,numIterations)\n",
    "l1,=plt.plot(t,error_train_MSE,'r-.')\n",
    "l2,=plt.plot(t,error_test_MSE,'b-.')\n",
    "plt.title('MSE error(Iterations={})'.format(numIterations))\n",
    "plt.legend((l1,l2),('training error','Testing error'), loc = 'best')\n",
    "plt.savefig('Images\\MSEerror_{}.jpg'.format(numIterations))\n",
    "#plt.show()\n",
    "plt.close()\n"
   ]
  },
  {
   "cell_type": "markdown",
   "metadata": {},
   "source": [
    "Before Feature Selection  | \n",
    " - | \n",
    " ![alt](Images\\MSEerror_100000.jpg) |"
   ]
  },
  {
   "cell_type": "code",
   "execution_count": 100,
   "metadata": {},
   "outputs": [],
   "source": [
    "#number of selected features\n",
    "n=16\n",
    "#df_relevant.iloc[m:m+1,0:16]\n",
    "#number of all data\n",
    "all_data = int(df_relevant.size/n)\n",
    "# number of traning data\n",
    "m= int(all_data*.8)\n",
    "# number of testing data\n",
    "s= int(all_data*.2)\n",
    "\n",
    "#all feature data\n",
    "x_all = np.array(df_relevant.iloc[:,0:18].T)\n",
    "y_all = np.array(price.T)\n",
    "\n",
    "#traning set\n",
    "x_train = np.array(df_relevant.iloc[0:m,0:18].T)\n",
    "y_train = np.array(price[0:m].T)\n",
    "\n",
    "#testing set\n",
    "x_test = np.array(df_relevant.iloc[m:all_data,0:18].T)\n",
    "y_test = np.array(price[m:all_data].T)\n",
    "\n",
    "\n",
    "error_train_MSE = []\n",
    "error_test_MSE = []\n",
    "gradient_MSE_set = []\n",
    "\n",
    "alpha = 1e-10\n",
    "theta_MSE = 1*np.zeros(n*1)\n",
    "\n",
    "numIterations=100000\n",
    "x=x_train.T\n",
    "y=y_train\n",
    "x_test=x_test.T\n",
    "xTrans = x.transpose()\n",
    "\n",
    "for i in range(0, 100000):\n",
    "    \n",
    "    #print(i)\n",
    "    hypothesis_MSE = np.dot(x, theta_MSE)\n",
    "    \n",
    "    loss_MSE = hypothesis_MSE - y\n",
    "\n",
    "    # avg cost per example (the 2 in 2*m doesn't really matter here.\n",
    "    # But to be consistent with the gradient, I include it)\n",
    "    \n",
    "    cost_MSE = np.sum(loss_MSE ** 2) / (2 * m) #MSE\n",
    "    \n",
    "    #print(\"Iteration %d | Cost: %f\" % (i, cost))\n",
    "    # avg gradient per example\n",
    "    gradient_MSE = np.dot(xTrans, loss_MSE) / m\n",
    "    # update\n",
    "    theta_MSE = theta_MSE - alpha * gradient_MSE\n",
    "    \n",
    "    error_train_MSE.append(cost_MSE)\n",
    "    \n",
    "    gradient_MSE_set.append(gradient_MSE)\n",
    "    \n",
    "    #calculate Test Error    \n",
    "    hypothesis_test_MSE = np.dot(x_test, theta_MSE)\n",
    "\n",
    "    loss_test_MSE = hypothesis_test_MSE - y_test\n",
    "\n",
    "    # avg cost per example (the 2 in 2*m doesn't really matter here.\n",
    "    # But to be consistent with the gradient, I include it)\n",
    "    \n",
    "    cost_test_MSE = np.sum(loss_test_MSE ** 2) / (2 * s) #MSE\n",
    "\n",
    "    error_test_MSE.append(cost_test_MSE)\n",
    "    \n"
   ]
  },
  {
   "cell_type": "code",
   "execution_count": 115,
   "metadata": {},
   "outputs": [],
   "source": [
    "hypothesis_MSE = np.dot(x_all.T, theta_MSE)\n",
    "\n",
    "plt.figure(figsize=(12,10), dpi=80)\n",
    "t=range(0,y_all.size)\n",
    "l1,=plt.plot(t,y_all,'ob')\n",
    "l2,=plt.plot(t,hypothesis_MSE,'*r')\n",
    "plt.title('Curve Fitting ( After Feature Selection )')\n",
    "plt.legend((l1,l2),('Raw data','Curve Fitting'), loc = 'best')\n",
    "plt.savefig('Images\\CurveFittingAfterFeatureSelection.jpg')\n",
    "#plt.show()\n",
    "plt.close()\n"
   ]
  },
  {
   "cell_type": "markdown",
   "metadata": {},
   "source": [
    "# $\\;\\;\\;\\;\\;\\;\\;\\;\\;\\;\\;\\;\\;\\;\\;\\;\\;\\;\\;\\;\\;\\;\\;\\;\\;\\;\\;\\;\\;\\;\\;$ After Feature Selection "
   ]
  },
  {
   "cell_type": "markdown",
   "metadata": {},
   "source": [
    "After Feature Selection  | \n",
    " - | \n",
    " ![alt](Images\\CurveFitting.jpg) |"
   ]
  },
  {
   "cell_type": "code",
   "execution_count": 116,
   "metadata": {},
   "outputs": [],
   "source": [
    "plt.figure(figsize=(7,7), dpi=80)\n",
    "t=range(0,numIterations)\n",
    "l1,=plt.plot(t,error_train_MSE,'r-.')\n",
    "l2,=plt.plot(t,error_test_MSE,'b-.')\n",
    "plt.title('MSE error afterFeature selection (Iterations={})'.format(numIterations))\n",
    "plt.legend((l1,l2),('training error','Testing error'), loc = 'best')\n",
    "plt.savefig('Images\\MSEerrorAfterFeatureSelection_{}.jpg'.format(numIterations))\n",
    "#plt.show()\n",
    "plt.close()\n"
   ]
  },
  {
   "cell_type": "markdown",
   "metadata": {},
   "source": [
    "After Feature Selection  | \n",
    " - | \n",
    " ![alt](Images\\MSEerrorAfterFeatureSelection_100000.jpg) |"
   ]
  },
  {
   "cell_type": "markdown",
   "metadata": {},
   "source": [
    "# $\\;\\;\\;\\;\\;\\;\\;\\;\\;\\;\\;\\;\\;\\;\\;\\;\\;\\;\\;\\;\\;\\;\\;\\;\\;\\;\\;\\;\\;\\;\\;$ Part B: Normal Equation"
   ]
  },
  {
   "cell_type": "code",
   "execution_count": 17,
   "metadata": {},
   "outputs": [],
   "source": [
    "#number of all features\n",
    "n=18\n",
    "\n",
    "#number of all data\n",
    "all_data = int(df_features.size/n)\n",
    "# number of traning data\n",
    "m= int(all_data*.8)\n",
    "# number of testing data\n",
    "s= int(all_data*.2)\n",
    "\n",
    "#all feature data\n",
    "x_all = np.array(df_features.iloc[:,0:19])\n",
    "y_all = np.array(price.T)\n",
    "\n",
    "#traning set\n",
    "x_train = np.array(df_features.iloc[0:m,0:19])\n",
    "y_train = np.array(price[0:m])\n",
    "\n",
    "#testing set\n",
    "x_test = np.array(df_features.iloc[m:all_data,0:19].T)\n",
    "y_test = np.array(price[m:all_data].T)\n",
    "\n",
    "theta = np.linalg.inv( x_train.T.dot(x_train)  ).dot(x_train.T).dot(y_train)\n"
   ]
  },
  {
   "cell_type": "code",
   "execution_count": 18,
   "metadata": {},
   "outputs": [
    {
     "data": {
      "image/png": "[encoded data removed]",
      "text/plain": [
       "<Figure size 960x800 with 1 Axes>"
      ]
     },
     "metadata": {
      "needs_background": "light"
     },
     "output_type": "display_data"
    }
   ],
   "source": [
    "hypothesis = np.dot(x_all, theta)\n",
    "\n",
    "plt.figure(figsize=(12,10), dpi=80)\n",
    "t=range(0,y_all.size)\n",
    "l1,=plt.plot(t,y_all,'ob')\n",
    "l2,=plt.plot(t,hypothesis,'*r')\n",
    "plt.title('Curve Fitting (Normal Equation )')\n",
    "plt.legend((l1,l2),('Raw data','Curve Fitting'), loc = 'best')\n",
    "plt.savefig('Images\\CurveFittingNormalEquation.jpg')\n",
    "plt.show()\n",
    "plt.close()\n"
   ]
  },
  {
   "cell_type": "code",
   "execution_count": null,
   "metadata": {},
   "outputs": [],
   "source": []
  }
 ],
 "metadata": {
  "kernelspec": {
   "display_name": "Python 3",
   "language": "python",
   "name": "python3"
  },
  "language_info": {
   "codemirror_mode": {
    "name": "ipython",
    "version": 3
   },
   "file_extension": ".py",
   "mimetype": "text/x-python",
   "name": "python",
   "nbconvert_exporter": "python",
   "pygments_lexer": "ipython3",
   "version": "3.7.3"
  }
 },
 "nbformat": 4,
 "nbformat_minor": 2
}
