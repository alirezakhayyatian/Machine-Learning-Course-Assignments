{
 "cells": [
  {
   "cell_type": "code",
   "execution_count": 40,
   "metadata": {},
   "outputs": [],
   "source": [
    "import numpy as np\n",
    "import matplotlib.pyplot as plt\n",
    "import scipy.optimize as opt\n",
    "from sklearn.utils import shuffle\n",
    "\n",
    "#load data from dataset    \n",
    "from sklearn.datasets import load_digits\n",
    "mnist = load_digits()\n",
    "#print(mnist.data.shape)\n",
    "X = mnist.data \n",
    "y = mnist.target\n",
    "\n",
    "'''shuffle dataset'''\n",
    "X,y = shuffle(X,y)\n",
    "\n",
    "numFeatures = X.shape[1] # 64 features\n",
    "numLabels = 10 # digits from 0 to 9\n",
    "\n",
    "'''split up data into train and test set'''\n",
    "all_data = X.size/64\n",
    "\n",
    "'''m denotes the number of trainnig data '''\n",
    "m=all_data*.6\n",
    "\n",
    "\n",
    "X_train = X[0:int(m)]\n",
    "y_train = y[0:int(m)]\n",
    "\n",
    "X_test = X[int(m+1):int(all_data)]\n",
    "y_test = y[int(m+1):int(all_data)]\n"
   ]
  },
  {
   "cell_type": "code",
   "execution_count": 41,
   "metadata": {},
   "outputs": [],
   "source": [
    "'''logistic regression classifier'''\n",
    "class logisticRegression:\n",
    "        \n",
    "    def sigmoid(self,z):\n",
    "        return 1 / (1 + np.exp(-z))\n",
    "\n",
    "    def cost(self,theta, X, y):\n",
    "        predictions = sigmoid(X @ theta)\n",
    "        predictions[predictions == 1] = 0.999 # log(1)=0 causes error in division\n",
    "        error = -y * np.log(predictions) - (1 - y) * np.log(1 - predictions);\n",
    "        return sum(error) / len(y);\n",
    "\n",
    "    def cost_gradient(self,theta, X, y):\n",
    "        predictions = sigmoid(X @ theta);\n",
    "        return X.transpose() @ (predictions - y) / len(y)\n",
    "\n",
    "    "
   ]
  },
  {
   "cell_type": "code",
   "execution_count": 42,
   "metadata": {},
   "outputs": [],
   "source": [
    "'''create an array to store the model parameters %theta for each classifier. we need 10 sets of model parameters'''\n",
    "classifiers = np.zeros(shape=(numLabels, numFeatures ))"
   ]
  },
  {
   "cell_type": "code",
   "execution_count": 50,
   "metadata": {},
   "outputs": [
    {
     "name": "stdout",
     "output_type": "stream",
     "text": [
      "Training accuracy: 100.0%\n",
      "Testing accuracy: 94.15041782729804%\n"
     ]
    }
   ],
   "source": [
    "'''train 10 binary classifiers targeted for each digit '''\n",
    "model = logisticRegression()\n",
    "\n",
    "for c in range(0, numLabels):\n",
    "    label = (y_train == c).astype(int)\n",
    "    initial_theta = np.zeros(X_train.shape[1])\n",
    "    classifiers[c, :] = opt.fmin_cg(model.cost, initial_theta, model.cost_gradient, (X_train, label), disp=0)\n",
    "\n",
    "\n",
    "''' Training set prediction and calculate Training Error '''\n",
    "classProbabilities = model.sigmoid(X_train @ classifiers.transpose())\n",
    "predictions_train = classProbabilities.argmax(axis=1)\n",
    "print(\"Training accuracy:\", str(100 * np.mean(predictions_train == y_train)) + \"%\")\n",
    "\n",
    "''' Testing set prediction and calculate Testing Error '''    \n",
    "classProbabilities = model.sigmoid(X_test @ classifiers.transpose())\n",
    "predictions_test = classProbabilities.argmax(axis=1)\n",
    "print(\"Testing accuracy:\", str(100 * np.mean(predictions_test == y_test)) + \"%\")\n"
   ]
  },
  {
   "cell_type": "code",
   "execution_count": 46,
   "metadata": {},
   "outputs": [
    {
     "name": "stdout",
     "output_type": "stream",
     "text": [
      "[[70  0  0  0  0  0  0  0  1  0]\n",
      " [ 0 68  0  0  1  0  0  0  6  2]\n",
      " [ 0  0 70  0  0  0  0  0  0  0]\n",
      " [ 0  0  0 70  0  1  0  0  1  0]\n",
      " [ 0  2  0  0 59  0  0  0  0  2]\n",
      " [ 0  1  1  0  0 81  0  1  2  2]\n",
      " [ 0  0  0  0  0  1 61  0  1  0]\n",
      " [ 0  1  0  1  0  0  0 72  1  1]\n",
      " [ 0  4  0  0  0  2  1  0 65  1]\n",
      " [ 0  2  1  0  0  0  0  0  2 60]]\n"
     ]
    }
   ],
   "source": [
    "#Confusion matrix \n",
    "from sklearn.metrics import confusion_matrix\n",
    "print (confusion_matrix(y_test, predictions_test))\n",
    "confusion_matrix_A = confusion_matrix(y_test, predictions_test)"
   ]
  },
  {
   "cell_type": "code",
   "execution_count": 54,
   "metadata": {},
   "outputs": [
    {
     "data": {
      "image/png": "[encoded data removed]",
      "text/plain": [
       "<Figure size 720x720 with 25 Axes>"
      ]
     },
     "metadata": {
      "needs_background": "light"
     },
     "output_type": "display_data"
    }
   ],
   "source": [
    "'''plot digit number images labeled by prediction value and original value'''\n",
    "import random\n",
    "#generate a list consist of 25 position in test part of  dataset\n",
    "list= []\n",
    "while len(list)<25:\n",
    "    r=random.randint(int(m+1),int(all_data-1))\n",
    "    if r not in list:list.append(r)\n",
    "\n",
    "\n",
    "X_test_new = []\n",
    "y_test_new = []\n",
    "for k in list:\n",
    "    X_test_new.append(mnist.data[k])\n",
    "    y_test_new.append(mnist.target[k])\n",
    " \n",
    "classProbabilities = model.sigmoid(X_test_new @ classifiers.transpose())\n",
    "pred = classProbabilities.argmax(axis=1)\n",
    "\n",
    "#pred = model.predict(X_test_new)        \n",
    "nrows, ncols = 5, 5\n",
    "fig, axes = plt.subplots(nrows, ncols,figsize=(10, 10))        \n",
    "for i in range(nrows):\n",
    "    for j in range(ncols):\n",
    "        # Image index\n",
    "        count = j + i * ncols\n",
    "        k=list[count]\n",
    "        ax = axes[i, j]\n",
    "        ax.matshow(mnist.images[k, ...],\n",
    "                   cmap=plt.cm.gray)\n",
    "        ax.set_axis_off()\n",
    "        ax.set_title(\"y_pre \"+str(pred[count]) +\"/y_org \" +str(y_test_new[count]))"
   ]
  },
  {
   "cell_type": "markdown",
   "metadata": {},
   "source": [
    "# comparsion\n",
    "In terms of test data error, the two methods have almost the same performance, but in terms of speed, the KNN is slower than logistic regression.also, In term of train data error, logistic regression is better than KNN method. In term of confusion matrix, logistic regression is much better than KNN method."
   ]
  },
  {
   "cell_type": "markdown",
   "metadata": {},
   "source": [
    "# imbalanced learning \n",
    "  An imbalanced classification problem is an example of a classification problem where the distribution of examples across the known classes is biased or skewed. The distribution can vary from a slight bias to a severe imbalance where there is one example in the minority class for hundreds, thousands, or millions of examples in the majority class or classes.\n",
    " \n",
    "## 1.Resampling data\n",
    "   changing the dataset that to be used to build  predictive model to have more balanced data.This change is called sampling dataset and there are two main methods that can be used to even-up the classes.first, adding copies of instances from the under-represented class called over-sampling (or more formally sampling with replacement).after that, delete instances from the over represented class, called under-sampling.\n",
    "\n",
    "## 2.different metrics\n",
    "Try different metrics other than correct vs wrong prediction. Try Confusion Matrix or ROC curve. Accuracy is divided into sensitivity and specificity and models can be chosen based on the balance thresholds of the values.\n",
    "\n",
    "## 3.  Anomaly Detection\n",
    "Try Anomaly Detection techniques and models often used there. Although that would probably be necessary if your data was even more Imbalanced."
   ]
  },
  {
   "cell_type": "code",
   "execution_count": null,
   "metadata": {},
   "outputs": [],
   "source": []
  }
 ],
 "metadata": {
  "kernelspec": {
   "display_name": "Python 3",
   "language": "python",
   "name": "python3"
  },
  "language_info": {
   "codemirror_mode": {
    "name": "ipython",
    "version": 3
   },
   "file_extension": ".py",
   "mimetype": "text/x-python",
   "name": "python",
   "nbconvert_exporter": "python",
   "pygments_lexer": "ipython3",
   "version": "3.7.3"
  }
 },
 "nbformat": 4,
 "nbformat_minor": 2
}
